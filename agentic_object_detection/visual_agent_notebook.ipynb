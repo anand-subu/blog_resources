{
 "cells": [
  {
   "cell_type": "code",
   "execution_count": null,
   "id": "91e56090",
   "metadata": {},
   "outputs": [],
   "source": [
    "import gradio as gr\n",
    "from models.vision_agent import VisionAgent\n",
    "from config import OPENAI_API_KEY, MODEL_ID\n",
    "\n",
    "# Instantiate the agent\n",
    "agent = VisionAgent(llm_api_key=OPENAI_API_KEY, model_id=MODEL_ID)\n",
    "\n",
    "def gradio_interface(image, text):\n",
    "    image_path = \"temp_input.jpg\"\n",
    "    image.save(image_path)\n",
    "    result = agent.process_request(image_path, text)\n",
    "    if not result:\n",
    "        return image, \"Error\"\n",
    "    out_img, out_text = result\n",
    "    return (image if out_img is None else out_img), out_text\n",
    "\n",
    "# Gradio interface\n",
    "inputs = [gr.Image(type=\"pil\", label=\"Uploaded Image\"), gr.Textbox(lines=2, label=\"User Request\", placeholder=\"Enter your request...\")]\n",
    "outputs = [gr.Image(type=\"pil\", label=\"Processed Image\"), gr.Textbox(label=\"Processed Text\")]\n",
    "\n",
    "gr.Interface(\n",
    "    fn=gradio_interface, \n",
    "    inputs=inputs, \n",
    "    outputs=outputs, \n",
    "    title=\"Vision Agent\"\n",
    ").launch()\n"
   ]
  }
 ],
 "metadata": {
  "kernelspec": {
   "display_name": "Python 3 (ipykernel)",
   "language": "python",
   "name": "python3"
  },
  "language_info": {
   "codemirror_mode": {
    "name": "ipython",
    "version": 3
   },
   "file_extension": ".py",
   "mimetype": "text/x-python",
   "name": "python",
   "nbconvert_exporter": "python",
   "pygments_lexer": "ipython3",
   "version": "3.9.16"
  }
 },
 "nbformat": 4,
 "nbformat_minor": 5
}
