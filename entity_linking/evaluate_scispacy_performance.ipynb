{
 "cells": [
  {
   "cell_type": "code",
   "execution_count": null,
   "id": "713c907c",
   "metadata": {},
   "outputs": [],
   "source": [
    "#for fair comparison with the KB we used, scispacy==0.4.0 should be used"
   ]
  },
  {
   "cell_type": "code",
   "execution_count": null,
   "id": "fe30c2ab",
   "metadata": {},
   "outputs": [],
   "source": [
    "from scispacy.linking import EntityLinker\n",
    "import spacy, scispacy\n",
    "import pandas as pd\n",
    "from helpers import *\n",
    "from tqdm import tqdm\n",
    "\n",
    "# code for setting up the MeSH linker referred from https://github.com/allenai/scispacy/issues/355\n",
    "\n",
    "config = {\n",
    "    \"resolve_abbreviations\": True,  \n",
    "    \"linker_name\": \"mesh\", \n",
    "    \"max_entities_per_mention\":1\n",
    "}\n",
    "\n",
    "nlp = spacy.load(\"en_ner_bc5cdr_md\")\n",
    "nlp.add_pipe(\"scispacy_linker\", config=config) "
   ]
  },
  {
   "cell_type": "code",
   "execution_count": null,
   "id": "3d86089a",
   "metadata": {},
   "outputs": [],
   "source": [
    "linker = nlp.get_pipe(\"scispacy_linker\")\n",
    "\n",
    "def extract_mesh_ids(text):\n",
    "    mesh_entity_pairs = []\n",
    "    doc = nlp(text)\n",
    "    for e in doc.ents:\n",
    "        if e._.kb_ents:\n",
    "            cui = e._.kb_ents[0][0]\n",
    "            mesh_entity_pairs.append({\"text\": e.text, \"identifier\": cui})\n",
    "        else:\n",
    "            mesh_entity_pairs.append({\"text\": e.text, \"identifier\": \"None\"})\n",
    "    \n",
    "    return mesh_entity_pairs"
   ]
  },
  {
   "cell_type": "code",
   "execution_count": null,
   "id": "164d6df0",
   "metadata": {},
   "outputs": [],
   "source": [
    "test_set_subsample = read_jsonl_file(\"test_set_subsample.jsonl\")[0:100]\n"
   ]
  },
  {
   "cell_type": "code",
   "execution_count": null,
   "id": "8d23c056",
   "metadata": {},
   "outputs": [],
   "source": [
    "all_mesh_ids = []\n",
    "for item in tqdm(test_set_subsample):\n",
    "    text = item[\"title\"] + \" \" + item[\"abstract\"]\n",
    "    mesh_ids = extract_mesh_ids(text)\n",
    "    all_mesh_ids.append(mesh_ids)"
   ]
  },
  {
   "cell_type": "code",
   "execution_count": null,
   "id": "da09d111",
   "metadata": {},
   "outputs": [],
   "source": [
    "entity_scores = [calculate_entity_metrics(gt[\"annotations\"],pred) for gt, pred in zip(test_set_subsample, all_mesh_ids)]\n",
    "macro_precision_entity = sum([x[0] for x in entity_scores]) / len(entity_scores)\n",
    "macro_recall_entity = sum([x[1] for x in entity_scores]) / len(entity_scores)\n",
    "macro_f1_entity = sum([x[2] for x in entity_scores]) / len(entity_scores)"
   ]
  },
  {
   "cell_type": "code",
   "execution_count": null,
   "id": "f9d5aaf2",
   "metadata": {},
   "outputs": [],
   "source": [
    "mesh_scores = [calculate_mesh_metrics(gt[\"annotations\"],pred) for gt, pred in zip(test_set_subsample, all_mesh_ids)]\n",
    "macro_precision_mesh = sum([x[0] for x in mesh_scores]) / len(entity_scores)\n",
    "macro_recall_mesh = sum([x[1] for x in mesh_scores]) / len(entity_scores)\n",
    "macro_f1_mesh = sum([x[2] for x in mesh_scores]) / len(entity_scores)"
   ]
  },
  {
   "cell_type": "code",
   "execution_count": null,
   "id": "bf2cc073",
   "metadata": {},
   "outputs": [],
   "source": [
    "scores_df = pd.DataFrame([[\"Entity Extraction\", macro_precision_entity, macro_recall_entity, macro_f1_entity], [\"Entity Linking\", macro_precision_mesh, macro_recall_mesh,macro_f1_mesh]])\n",
    "scores_df.columns = [\"Task\", \"Macro Precision\", \"Macro Recall\", \"Macro F1\"]\n",
    "scores_df['Macro Precision'] = scores_df['Macro Precision'].apply(lambda x: f'{x * 100:.2f}%')\n",
    "scores_df['Macro Recall'] = scores_df['Macro Recall'].apply(lambda x: f'{x * 100:.2f}%')\n",
    "scores_df['Macro F1'] = scores_df['Macro F1'].apply(lambda x: f'{x * 100:.2f}%')\n",
    "scores_df.to_csv(\"scispacy_scores.csv\", index=False)"
   ]
  },
  {
   "cell_type": "code",
   "execution_count": null,
   "id": "a55fa823",
   "metadata": {},
   "outputs": [],
   "source": [
    "with open(\"scispacy_predictions.json\", \"w\") as file:\n",
    "    file.write(json.dumps({\"predictions\": all_mesh_ids}))"
   ]
  }
 ],
 "metadata": {
  "kernelspec": {
   "display_name": "Python 3 (ipykernel)",
   "language": "python",
   "name": "python3"
  },
  "language_info": {
   "codemirror_mode": {
    "name": "ipython",
    "version": 3
   },
   "file_extension": ".py",
   "mimetype": "text/x-python",
   "name": "python",
   "nbconvert_exporter": "python",
   "pygments_lexer": "ipython3",
   "version": "3.7.1"
  }
 },
 "nbformat": 4,
 "nbformat_minor": 5
}
