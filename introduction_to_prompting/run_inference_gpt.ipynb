{
 "cells": [
  {
   "cell_type": "code",
   "execution_count": null,
   "id": "419f11a7",
   "metadata": {},
   "outputs": [],
   "source": [
    "import torch\n",
    "from tqdm import tqdm\n",
    "import pandas as pd\n",
    "from tqdm import tqdm\n",
    "from helpers import *"
   ]
  },
  {
   "cell_type": "markdown",
   "id": "c7653792-3388-47bf-b350-c3952d02beaa",
   "metadata": {},
   "source": [
    "## Load sub-sampled test set"
   ]
  },
  {
   "cell_type": "code",
   "execution_count": null,
   "id": "2608a180",
   "metadata": {},
   "outputs": [],
   "source": [
    "questions = read_jsonl_file(\"USMLE_test_samples_300.jsonl\")"
   ]
  },
  {
   "cell_type": "code",
   "execution_count": null,
   "id": "b76a12d2",
   "metadata": {},
   "outputs": [],
   "source": [
    "few_shot_prompts = read_jsonl_file(\"USMLE_few_shot_samples.jsonl\")"
   ]
  },
  {
   "cell_type": "markdown",
   "id": "9196aad1-65d7-46e7-bd15-31759f802cf4",
   "metadata": {},
   "source": [
    "## Parse ground-truth and store answers"
   ]
  },
  {
   "cell_type": "code",
   "execution_count": null,
   "id": "c107168f-f053-452e-847d-2ea9e7beb438",
   "metadata": {},
   "outputs": [],
   "source": [
    "ground_truth = []\n",
    "\n",
    "for item in questions:\n",
    "    ans_options = item[\"options\"]\n",
    "    correct_ans_option = \"\"\n",
    "    for key,value in ans_options.items():\n",
    "        if value == item[\"answer\"]:\n",
    "            correct_ans_option = key\n",
    "            break\n",
    "            \n",
    "    ground_truth.append(correct_ans_option)"
   ]
  },
  {
   "cell_type": "markdown",
   "id": "53189539",
   "metadata": {},
   "source": [
    "## Evaluate Zero-Shot GPT-3.5 Performance "
   ]
  },
  {
   "cell_type": "code",
   "execution_count": null,
   "id": "6e418ad2",
   "metadata": {},
   "outputs": [],
   "source": [
    "zero_shot_gpt_answers = []\n",
    "for item in tqdm(questions):\n",
    "    zero_shot_prompt_messages = build_zero_shot_prompt(PROMPT, item)\n",
    "    answer = get_response(zero_shot_prompt_messages, model_name = \"gpt-3.5-turbo\", temperature = 0.0, max_tokens = 10)\n",
    "    zero_shot_gpt_answers.append(answer)"
   ]
  },
  {
   "cell_type": "code",
   "execution_count": null,
   "id": "f7229096",
   "metadata": {},
   "outputs": [],
   "source": [
    "zero_shot_gpt_predictions = [parse_answer(x) for x in zero_shot_gpt_answers]"
   ]
  },
  {
   "cell_type": "code",
   "execution_count": null,
   "id": "863d4296",
   "metadata": {},
   "outputs": [],
   "source": [
    "print(calculate_accuracy(ground_truth, zero_shot_gpt_predictions))"
   ]
  },
  {
   "cell_type": "markdown",
   "id": "be4ae39a",
   "metadata": {},
   "source": [
    "## Few Shot Prompting GPT-3.5"
   ]
  },
  {
   "cell_type": "code",
   "execution_count": null,
   "id": "187dee7b",
   "metadata": {},
   "outputs": [],
   "source": [
    "few_shot_gpt_answers = []\n",
    "for item in tqdm(questions):\n",
    "    few_shot_prompt_messages = build_few_shot_prompt(PROMPT, item, few_shot_prompts)\n",
    "    answer = get_response(few_shot_prompt_messages, model_name= \"gpt-3.5-turbo\", temperature = 0.0, max_tokens = 10)\n",
    "    few_shot_gpt_answers.append(answer)"
   ]
  },
  {
   "cell_type": "code",
   "execution_count": null,
   "id": "3b8bd28c",
   "metadata": {},
   "outputs": [],
   "source": [
    "few_shot_gpt_predictions = [parse_answer(x) for x in few_shot_gpt_answers]"
   ]
  },
  {
   "cell_type": "code",
   "execution_count": null,
   "id": "b1222a7f",
   "metadata": {},
   "outputs": [],
   "source": [
    "print(calculate_accuracy(ground_truth, few_shot_gpt_predictions))"
   ]
  },
  {
   "cell_type": "markdown",
   "id": "04f552df",
   "metadata": {},
   "source": [
    "## CoT Prompting GPT-3.5"
   ]
  },
  {
   "cell_type": "code",
   "execution_count": null,
   "id": "9d8f9d78",
   "metadata": {},
   "outputs": [],
   "source": [
    "cot_gpt_answers = []\n",
    "for item in tqdm(questions):\n",
    "    cot_prompt = build_cot_prompt(COT_INSTRUCTION, item, COT_EXAMPLES)\n",
    "    answer = get_response(cot_prompt, model_name= \"gpt-3.5-turbo\", temperature = 0.0, max_tokens = 100)\n",
    "    cot_gpt_answers.append(answer)"
   ]
  },
  {
   "cell_type": "code",
   "execution_count": null,
   "id": "718521d1",
   "metadata": {},
   "outputs": [],
   "source": [
    "cot_gpt_predictions = [parse_answer_cot(x) for x in cot_gpt_answers]"
   ]
  },
  {
   "cell_type": "code",
   "execution_count": null,
   "id": "62f5f53c",
   "metadata": {},
   "outputs": [],
   "source": [
    "print(calculate_accuracy(ground_truth, cot_gpt_predictions))"
   ]
  },
  {
   "cell_type": "markdown",
   "id": "63338d7e-a11e-4631-844a-506e537d7826",
   "metadata": {},
   "source": [
    "## Dump all outputs and results"
   ]
  },
  {
   "cell_type": "code",
   "execution_count": null,
   "id": "fe4b4c4d-054d-4e72-a143-5d44a0edf0d8",
   "metadata": {},
   "outputs": [],
   "source": [
    "zero_shot_gpt_df = pd.DataFrame([[x,y] for x,y in zip(zero_shot_gpt_answers, zero_shot_gpt_predictions)])\n",
    "zero_shot_gpt_df.columns = [\"Generated Answer\", \"Extracted Choice\"]\n",
    "zero_shot_gpt_df.to_csv(\"gpt_3.5_zero_shot_predictions.csv\", index=False)"
   ]
  },
  {
   "cell_type": "code",
   "execution_count": null,
   "id": "6f9f3579-8e8f-438e-8ad8-aa91d0bdb61a",
   "metadata": {},
   "outputs": [],
   "source": [
    "few_shot_gpt_df = pd.DataFrame([[x,y] for x,y in zip(few_shot_gpt_answers, few_shot_gpt_predictions)])\n",
    "few_shot_gpt_df.columns = [\"Generated Answer\", \"Extracted Choice\"]\n",
    "few_shot_gpt_df.to_csv(\"gpt_3.5_few_shot_predictions.csv\", index=False)"
   ]
  },
  {
   "cell_type": "code",
   "execution_count": null,
   "id": "9584ea19",
   "metadata": {},
   "outputs": [],
   "source": [
    "cot_gpt_df = pd.DataFrame([[x,y] for x,y in zip(cot_gpt_answers, cot_gpt_predictions)])\n",
    "cot_gpt_df.columns = [\"Generated Answer\", \"Extracted Choice\"]\n",
    "cot_gpt_df.to_csv(\"gpt_3.5_cot_predictions.csv\", index=False)"
   ]
  }
 ],
 "metadata": {
  "kernelspec": {
   "display_name": "Python 3 (ipykernel)",
   "language": "python",
   "name": "python3"
  },
  "language_info": {
   "codemirror_mode": {
    "name": "ipython",
    "version": 3
   },
   "file_extension": ".py",
   "mimetype": "text/x-python",
   "name": "python",
   "nbconvert_exporter": "python",
   "pygments_lexer": "ipython3",
   "version": "3.9.17"
  }
 },
 "nbformat": 4,
 "nbformat_minor": 5
}
