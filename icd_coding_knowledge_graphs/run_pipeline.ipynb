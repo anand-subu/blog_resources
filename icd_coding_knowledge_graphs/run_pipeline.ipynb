{
 "cells": [
  {
   "cell_type": "code",
   "execution_count": null,
   "metadata": {},
   "outputs": [],
   "source": [
    "from helpers import *\n",
    "from neo4j_helpers import *"
   ]
  },
  {
   "cell_type": "markdown",
   "metadata": {},
   "source": [
    "## Get ICD codes and respective descriptions"
   ]
  },
  {
   "cell_type": "code",
   "execution_count": null,
   "metadata": {},
   "outputs": [],
   "source": [
    "codes = cm.get_all_codes()\n",
    "\n",
    "icd_code_description = {}\n",
    "\n",
    "for item in tqdm(codes):\n",
    "    if cm.is_leaf(item):\n",
    "        icd_code_description[item] = cm.get_description(item)\n"
   ]
  },
  {
   "cell_type": "markdown",
   "metadata": {},
   "source": [
    "## Extract entities and relations "
   ]
  },
  {
   "cell_type": "code",
   "execution_count": null,
   "metadata": {},
   "outputs": [],
   "source": [
    "extracted_graphs = {}\n",
    "\n",
    "for key, value in tqdm(icd_code_description.items()):\n",
    "    input_code_description = \"ICD Code Description: \" + value\n",
    "    output = get_completion(prompt_relation_extraction, input_code_description)\n",
    "    extracted_graphs[key] = output"
   ]
  },
  {
   "cell_type": "markdown",
   "metadata": {},
   "source": [
    "## Save the extracted output"
   ]
  },
  {
   "cell_type": "code",
   "execution_count": null,
   "metadata": {},
   "outputs": [],
   "source": [
    "extracted_graphs = json.loads(open(\"extracted_entities_relations/extracted_graphs_72633.json\").read())"
   ]
  },
  {
   "cell_type": "code",
   "execution_count": null,
   "metadata": {},
   "outputs": [],
   "source": [
    "with open(\"extracted_entities_and_relations.json\", \"w\") as f:\n",
    "    json.dump(extracted_graphs, f)"
   ]
  },
  {
   "cell_type": "markdown",
   "metadata": {},
   "source": [
    "# Construct KG"
   ]
  },
  {
   "cell_type": "markdown",
   "metadata": {},
   "source": [
    "## Extract all entities across the ICD descriptions"
   ]
  },
  {
   "cell_type": "code",
   "execution_count": null,
   "metadata": {},
   "outputs": [],
   "source": [
    "all_entities = []\n",
    "for key, value in tqdm(extracted_graphs.items()):\n",
    "    entity_list = extract_entities(value)\n",
    "    all_entities += entity_list\n",
    "\n",
    "all_entities = list(set(all_entities))"
   ]
  },
  {
   "cell_type": "markdown",
   "metadata": {},
   "source": [
    "## Normalize all entities by linking against UMLS"
   ]
  },
  {
   "cell_type": "code",
   "execution_count": null,
   "metadata": {},
   "outputs": [],
   "source": [
    "normalized_entity_map = normalize_entities(all_entities)"
   ]
  },
  {
   "cell_type": "markdown",
   "metadata": {},
   "source": [
    "## Build Graph"
   ]
  },
  {
   "cell_type": "code",
   "execution_count": null,
   "metadata": {},
   "outputs": [],
   "source": [
    "graphs_list = []\n",
    "for key, value in tqdm(extracted_graphs.items()):\n",
    "    icd_description = icd_code_description[key]\n",
    "    graph = build_graph(value, key, icd_description, normalized_entity_map) \n",
    "    graphs_list.append(graph)"
   ]
  },
  {
   "cell_type": "code",
   "execution_count": null,
   "metadata": {},
   "outputs": [],
   "source": [
    "kg = nx.compose_all(graphs_list)"
   ]
  },
  {
   "cell_type": "markdown",
   "metadata": {},
   "source": [
    "## Index to Neo4j"
   ]
  },
  {
   "cell_type": "code",
   "execution_count": null,
   "metadata": {},
   "outputs": [],
   "source": [
    "driver = GraphDatabase.driver(uri, auth=(username, password))\n",
    "\n",
    "\n",
    "with driver.session() as session:\n",
    "    session.write_transaction(create_index)\n",
    "\n",
    "    nodes = [\n",
    "        {'id': node_id, 'attributes': attributes}\n",
    "        for node_id, attributes in kg.nodes(data=True)\n",
    "    ]\n",
    "\n",
    "    relationships = [\n",
    "        {\n",
    "            'source_id': source_id,\n",
    "            'target_id': target_id,\n",
    "            'attributes': attributes\n",
    "        }\n",
    "        for source_id, target_id, attributes in kg.edges(data=True)\n",
    "    ]\n",
    "\n",
    "    for i in range(0, len(nodes), BATCH_SIZE):\n",
    "        batch = nodes[i:i+BATCH_SIZE]\n",
    "        session.write_transaction(create_nodes, batch)\n",
    "\n",
    "    for i in range(0, len(relationships), BATCH_SIZE):\n",
    "        batch = relationships[i:i+BATCH_SIZE]\n",
    "        session.write_transaction(create_relationships, batch)\n",
    "        \n",
    "driver.close()"
   ]
  }
 ],
 "metadata": {
  "kernelspec": {
   "display_name": "Python 3 (ipykernel)",
   "language": "python",
   "name": "python3"
  },
  "language_info": {
   "codemirror_mode": {
    "name": "ipython",
    "version": 3
   },
   "file_extension": ".py",
   "mimetype": "text/x-python",
   "name": "python",
   "nbconvert_exporter": "python",
   "pygments_lexer": "ipython3",
   "version": "3.9.16"
  }
 },
 "nbformat": 4,
 "nbformat_minor": 2
}
